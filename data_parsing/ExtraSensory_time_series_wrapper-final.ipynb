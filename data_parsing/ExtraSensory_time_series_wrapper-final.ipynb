{
 "cells": [
  {
   "cell_type": "markdown",
   "id": "4c02487c",
   "metadata": {},
   "source": [
    "# ExtraSensory Dataset Wrapper \n",
    "- Download the [features and labels zip file (215MB)](http://extrasensory.ucsd.edu/data/primary_data_files/ExtraSensory.per_uuid_features_labels.zip).\n",
    "-  Download the [watch-accelerometer measurements zip file (800MB)](http://extrasensory.ucsd.edu/data/raw_measurements/ExtraSensory.raw_measurements.watch_acc.zip)\n",
    "- Unzip them and paste their directory addresses.\n",
    "- The rest of the code will parse **labels** and **watch accelerometer** data"
   ]
  },
  {
   "cell_type": "code",
   "execution_count": 17,
   "id": "c5725733",
   "metadata": {},
   "outputs": [],
   "source": [
    "import os\n",
    "import pandas as pd\n",
    "import numpy as np\n",
    "import scipy"
   ]
  },
  {
   "cell_type": "code",
   "execution_count": null,
   "id": "98234976",
   "metadata": {},
   "outputs": [],
   "source": [
    "time_series_path = \"/data/har/raw/ExtraSensory/watch_acc\"\n",
    "processed_path = \"/data/har/processed/ExtraSensory\"\n",
    "ts_with_id = os.listdir(time_series_path)"
   ]
  },
  {
   "cell_type": "code",
   "execution_count": 3,
   "id": "0da40fa6",
   "metadata": {},
   "outputs": [],
   "source": [
    "label_path = \"/data/har/raw/ExtraSensory/features_labels\"\n",
    "label_with_id = os.listdir(label_path)"
   ]
  },
  {
   "cell_type": "code",
   "execution_count": null,
   "id": "708c157e",
   "metadata": {},
   "outputs": [],
   "source": [
    "curr_id = ts_with_id[0]\n",
    "frequency = 10"
   ]
  },
  {
   "cell_type": "code",
   "execution_count": 5,
   "id": "03504aa2",
   "metadata": {},
   "outputs": [],
   "source": [
    "# Label Mapping\n",
    "label_mapping = {\n",
    "    \"sedentary_sitting_other\": [\"SITTING\", \"COMPUTER_WORK\", \"READING_A_BOOK\"],\n",
    "    \"sedentary_sitting_transport\": ['DRIVE_-_I_M_THE_DRIVER', 'DRIVE_-_I_M_A_PASSENGER', 'IN_A_CAR'],\n",
    "    \"sedentary_lying\": [\"LYING_DOWN\", \"SLEEPING\"],\n",
    "    \"upright_standing\": [\"STANDING_IN_PLACE\", \"WASHING_DISHES\", \"COOKING\"],\n",
    "    \"upright_stepping\": [\"STANDING_AND_MOVING\", \"WALKING\", \"SHOPPING\", \"OUTSIDE\", \"RUNNING\", \"STAIRS_-_GOING_UP\", \"STAIRS_-_GOING_DOWN\"]\n",
    "}"
   ]
  },
  {
   "cell_type": "code",
   "execution_count": 19,
   "id": "5ec1f5b0",
   "metadata": {},
   "outputs": [],
   "source": [
    "from scipy import interpolate\n",
    "def df_resample(df, base_time_stamp, frequency):\n",
    "    time = np.array(df[\"timestamp\"])\n",
    "\n",
    "    x = np.array(df[\"acc_x\"])\n",
    "    interp_x = interpolate.interp1d(time, x, fill_value=\"extrapolate\")\n",
    "    \n",
    "    y = np.array(df[\"acc_y\"])\n",
    "    interp_y = interpolate.interp1d(time, y, fill_value=\"extrapolate\")\n",
    "    \n",
    "    z = np.array(df[\"acc_z\"])\n",
    "    interp_z = interpolate.interp1d(time, z, fill_value=\"extrapolate\")\n",
    "\n",
    "    new_time_stamp = base_time_stamp + np.array(list(range(0, 20 * frequency))) / frequency + 1 / frequency / 2\n",
    "    new_x = interp_x(new_time_stamp)\n",
    "    new_y = interp_y(new_time_stamp)\n",
    "    new_z = interp_z(new_time_stamp)\n",
    "    \n",
    "    new_data = {\"time\": new_time_stamp,\n",
    "               \"acc_x\": new_x,\n",
    "               \"acc_y\": new_y,\n",
    "               \"acc_z\": new_z}\n",
    "    return pd.DataFrame(data=new_data)"
   ]
  },
  {
   "cell_type": "code",
   "execution_count": 20,
   "id": "be4daeac",
   "metadata": {},
   "outputs": [],
   "source": [
    "def single_ts_sample_wrapper(time_id, curr_id, time_series_path, label_df, label_mapping, frequency):\n",
    "    ts_file_list = os.listdir(time_series_path + \"/\" + curr_id)\n",
    "    base_time_stamp = int(ts_file_list[time_id].split(\".\")[0])\n",
    "    base_time_stamp_idx = label_df['timestamp'][label_df['timestamp'] == base_time_stamp].index.tolist()[0]\n",
    "    \n",
    "    data_dist = {}\n",
    "    for key in label_mapping.keys():\n",
    "        data_dist[key] = 0\n",
    "\n",
    "        for label in label_mapping[key]:\n",
    "            new_label = \"label:\" + label\n",
    "            if new_label in label_df.columns:\n",
    "                if label_df[new_label][base_time_stamp_idx] == 1:\n",
    "                    data_dist[key] = 1\n",
    "    # print(\"watch acc file path: \", time_series_path + \"/\" + curr_id + \"/\" + ts_file_list[time_id])\n",
    "    ts_df = pd.read_csv(time_series_path + \"/\" + curr_id + \"/\" + ts_file_list[time_id], header=None, sep=\" \")\n",
    "    ts_df.columns = [\"timestamp\", \"acc_x\", \"acc_y\", \"acc_z\"]\n",
    "    ts_df[\"timestamp\"] = np.array(ts_df[\"timestamp\"]) / 1000 + base_time_stamp\n",
    "    \n",
    "    ts_df = df_resample(ts_df, base_time_stamp, frequency)\n",
    "    \n",
    "    for key in data_dist.keys():\n",
    "        ts_df[key] =  data_dist[key]\n",
    "    return ts_df"
   ]
  },
  {
   "cell_type": "code",
   "execution_count": 21,
   "id": "bc66d446",
   "metadata": {},
   "outputs": [],
   "source": [
    "def es_wrapper(idx, label_with_id, label_mapping, frequency):\n",
    "    curr_id = ts_with_id[idx]\n",
    "\n",
    "    label_file_idx = 0\n",
    "    for i in range(len(label_with_id)):\n",
    "        if curr_id == label_with_id[i].split(\".\")[0]:\n",
    "            label_file_idx = i\n",
    "            break\n",
    "    label_file_name = label_with_id[label_file_idx]\n",
    "    label_df = pd.read_csv(label_path + \"/\" + label_file_name, compression=\"gzip\")\n",
    "    \n",
    "    raw_label = []\n",
    "    for i in range(len(label_df.columns)):\n",
    "        if label_df.columns[i].split(\":\")[0] == \"label\":\n",
    "            raw_label.append(label_df.columns[i].split(\":\")[1])\n",
    "            \n",
    "    \n",
    "    ts_file_list = os.listdir(time_series_path + \"/\" + curr_id)\n",
    "    ts_df = []\n",
    "    for i in range(len(ts_file_list)):\n",
    "        ts_df.append(single_ts_sample_wrapper(i, curr_id, time_series_path, label_df, label_mapping, frequency))\n",
    "    ts_df = pd.concat(ts_df, ignore_index=True)\n",
    "    return ts_df"
   ]
  },
  {
   "cell_type": "code",
   "execution_count": null,
   "id": "370b3881",
   "metadata": {},
   "outputs": [
    {
     "name": "stderr",
     "output_type": "stream",
     "text": [
      "  0%|          | 0/16 [00:00<?, ?it/s]"
     ]
    },
    {
     "name": "stdout",
     "output_type": "stream",
     "text": [
      "9759096F-1119-4E19-A0AD-6F16989C7E1C\n"
     ]
    },
    {
     "name": "stderr",
     "output_type": "stream",
     "text": [
      "  6%|▋         | 1/16 [01:22<20:30, 82.04s/it]"
     ]
    },
    {
     "name": "stdout",
     "output_type": "stream",
     "text": [
      "5EF64122-B513-46AE-BCF1-E62AAC285D2C\n"
     ]
    },
    {
     "name": "stderr",
     "output_type": "stream",
     "text": [
      " 12%|█▎        | 2/16 [01:41<10:32, 45.15s/it]"
     ]
    },
    {
     "name": "stdout",
     "output_type": "stream",
     "text": [
      "3600D531-0C55-44A7-AE95-A7A38519464E\n"
     ]
    },
    {
     "name": "stderr",
     "output_type": "stream",
     "text": [
      " 19%|█▉        | 3/16 [02:02<07:23, 34.11s/it]"
     ]
    },
    {
     "name": "stdout",
     "output_type": "stream",
     "text": [
      "E65577C1-8D5D-4F70-AF23-B3ADB9D3DBA3\n"
     ]
    },
    {
     "name": "stderr",
     "output_type": "stream",
     "text": [
      " 25%|██▌       | 4/16 [02:22<05:40, 28.42s/it]"
     ]
    },
    {
     "name": "stdout",
     "output_type": "stream",
     "text": [
      "00EABED2-271D-49D8-B599-1D4A09240601\n"
     ]
    },
    {
     "name": "stderr",
     "output_type": "stream",
     "text": [
      " 31%|███▏      | 5/16 [02:24<03:30, 19.14s/it]"
     ]
    },
    {
     "name": "stdout",
     "output_type": "stream",
     "text": [
      "81536B0A-8DBF-4D8A-AC24-9543E2E4C8E0\n"
     ]
    },
    {
     "name": "stderr",
     "output_type": "stream",
     "text": [
      " 38%|███▊      | 6/16 [03:00<04:07, 24.73s/it]"
     ]
    },
    {
     "name": "stdout",
     "output_type": "stream",
     "text": [
      "CCAF77F0-FABB-4F2F-9E24-D56AD0C5A82F\n"
     ]
    },
    {
     "name": "stderr",
     "output_type": "stream",
     "text": [
      " 44%|████▍     | 7/16 [03:56<05:15, 35.08s/it]"
     ]
    },
    {
     "name": "stdout",
     "output_type": "stream",
     "text": [
      "1538C99F-BA1E-4EFB-A949-6C7C47701B20\n"
     ]
    },
    {
     "name": "stderr",
     "output_type": "stream",
     "text": [
      " 50%|█████     | 8/16 [03:58<03:15, 24.38s/it]"
     ]
    },
    {
     "name": "stdout",
     "output_type": "stream",
     "text": [
      "7CE37510-56D0-4120-A1CF-0E23351428D2\n"
     ]
    },
    {
     "name": "stderr",
     "output_type": "stream",
     "text": [
      " 56%|█████▋    | 9/16 [05:17<04:50, 41.47s/it]"
     ]
    },
    {
     "name": "stdout",
     "output_type": "stream",
     "text": [
      "BEF6C611-50DA-4971-A040-87FB979F3FC1\n"
     ]
    },
    {
     "name": "stderr",
     "output_type": "stream",
     "text": [
      " 62%|██████▎   | 10/16 [05:47<03:48, 38.08s/it]"
     ]
    },
    {
     "name": "stdout",
     "output_type": "stream",
     "text": [
      "B7F9D634-263E-4A97-87F9-6FFB4DDCB36C\n"
     ]
    },
    {
     "name": "stderr",
     "output_type": "stream",
     "text": [
      " 69%|██████▉   | 11/16 [07:35<04:57, 59.41s/it]"
     ]
    },
    {
     "name": "stdout",
     "output_type": "stream",
     "text": [
      "F50235E0-DD67-4F2A-B00B-1F31ADA998B9\n"
     ]
    },
    {
     "name": "stderr",
     "output_type": "stream",
     "text": [
      " 75%|███████▌  | 12/16 [07:45<02:57, 44.32s/it]"
     ]
    },
    {
     "name": "stdout",
     "output_type": "stream",
     "text": [
      "A5CDF89D-02A2-4EC1-89F8-F534FDABDD96\n"
     ]
    },
    {
     "name": "stderr",
     "output_type": "stream",
     "text": [
      " 81%|████████▏ | 13/16 [08:17<02:01, 40.57s/it]"
     ]
    },
    {
     "name": "stdout",
     "output_type": "stream",
     "text": [
      "4E98F91F-4654-42EF-B908-A3389443F2E7\n"
     ]
    },
    {
     "name": "stderr",
     "output_type": "stream",
     "text": [
      " 88%|████████▊ | 14/16 [08:36<01:08, 34.06s/it]"
     ]
    },
    {
     "name": "stdout",
     "output_type": "stream",
     "text": [
      "11B5EC4D-4133-4289-B475-4E737182A406\n"
     ]
    },
    {
     "name": "stderr",
     "output_type": "stream",
     "text": [
      " 94%|█████████▍| 15/16 [09:54<00:47, 47.36s/it]"
     ]
    },
    {
     "name": "stdout",
     "output_type": "stream",
     "text": [
      "83CF687B-7CEC-434B-9FE8-00C3D5799BE6\n"
     ]
    },
    {
     "name": "stderr",
     "output_type": "stream",
     "text": [
      "100%|██████████| 16/16 [11:17<00:00, 42.32s/it]\n"
     ]
    }
   ],
   "source": [
    "from tqdm import tqdm\n",
    "\n",
    "for idx in tqdm(range(40, len(ts_with_id))):\n",
    "    if ts_with_id[idx] != \"A5A30F76-581E-4757-97A2-957553A2C6AA\":\n",
    "        print(ts_with_id[idx])\n",
    "        ts_df = es_wrapper(idx, label_with_id, label_mapping, frequency)\n",
    "        ts_df.to_csv(processed_path + \"/\" + ts_with_id[idx] + \".csv\")"
   ]
  },
  {
   "cell_type": "code",
   "execution_count": null,
   "id": "16ee5c0b",
   "metadata": {},
   "outputs": [
    {
     "name": "stdout",
     "output_type": "stream",
     "text": [
      "   Unnamed: 0          time      acc_x       acc_y        acc_z  \\\n",
      "0           0  1.449740e+09 -80.000000  120.000000   992.799943   \n",
      "1           1  1.449740e+09 -80.399971  119.600029  1016.399971   \n",
      "2           2  1.449740e+09 -83.599981  104.000000  1019.599981   \n",
      "3           3  1.449740e+09 -80.000000  112.000000  1016.000000   \n",
      "4           4  1.449740e+09 -84.400019  111.199962  1016.000000   \n",
      "\n",
      "   sedentary_sitting_other  sedentary_sitting_transport  sedentary_lying  \\\n",
      "0                        1                            0                0   \n",
      "1                        1                            0                0   \n",
      "2                        1                            0                0   \n",
      "3                        1                            0                0   \n",
      "4                        1                            0                0   \n",
      "\n",
      "   upright_standing  upright_stepping  \n",
      "0                 0                 0  \n",
      "1                 0                 0  \n",
      "2                 0                 0  \n",
      "3                 0                 0  \n",
      "4                 0                 0  \n",
      "Index(['Unnamed: 0', 'time', 'acc_x', 'acc_y', 'acc_z',\n",
      "       'sedentary_sitting_other', 'sedentary_sitting_transport',\n",
      "       'sedentary_lying', 'upright_standing', 'upright_stepping'],\n",
      "      dtype='object')\n",
      "(1477600, 10)\n"
     ]
    }
   ],
   "source": [
    "ts_files = os.listdir(processed_path)\n",
    "df = pd.read_csv(processed_path + \"/\" + ts_files[0])\n",
    "print(df.head())\n",
    "print(df.columns)\n",
    "print(df.shape)\n"
   ]
  },
  {
   "cell_type": "code",
   "execution_count": 36,
   "id": "81e932fa",
   "metadata": {},
   "outputs": [
    {
     "name": "stdout",
     "output_type": "stream",
     "text": [
      "Most Occurrence: 0.09999990463256836\n",
      "Mid Value: 0.09999990463256836\n",
      "frequency: 10.000009536752259 Hz\n"
     ]
    }
   ],
   "source": [
    "df[\"time_shift\"] = df[\"time\"] - df[\"time\"].shift(1)\n",
    "df[\"time_shift\"].head()\n",
    "most_occurrence = df[\"time_shift\"].mode()[0]\n",
    "mid_value = df[\"time_shift\"].median()\n",
    "\n",
    "print(\"Most Occurrence:\", most_occurrence)\n",
    "print(\"Mid Value:\", mid_value)\n",
    "print (\"frequency:\", 1 / mid_value, \"Hz\")"
   ]
  },
  {
   "cell_type": "code",
   "execution_count": null,
   "id": "4ae34a52",
   "metadata": {},
   "outputs": [],
   "source": []
  }
 ],
 "metadata": {
  "kernelspec": {
   "display_name": "ssl_env",
   "language": "python",
   "name": "python3"
  },
  "language_info": {
   "codemirror_mode": {
    "name": "ipython",
    "version": 3
   },
   "file_extension": ".py",
   "mimetype": "text/x-python",
   "name": "python",
   "nbconvert_exporter": "python",
   "pygments_lexer": "ipython3",
   "version": "3.7.16"
  }
 },
 "nbformat": 4,
 "nbformat_minor": 5
}
